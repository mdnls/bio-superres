{
 "cells": [
  {
   "cell_type": "code",
   "execution_count": 37,
   "id": "d6422671",
   "metadata": {},
   "outputs": [],
   "source": [
    "import cvxpy as cp\n",
    "from cvxpy.atoms.affine.bmat import bmat\n",
    "import numpy as np\n",
    "import matplotlib.pyplot as plt\n",
    "\n",
    "def make_signal(n_spikes, amplitude_noise): \n",
    "    spikes = (0.5 + np.arange(n_spikes)) / n_spikes\n",
    "    phases = np.random.uniform(size=(n_spikes,))\n",
    "    amplitudes = np.random.normal(size=(n_spikes,))\n",
    "    return spikes, amplitudes * np.exp(2 * np.pi * 1j * phases)\n",
    "\n",
    "def plot_signal(signal):\n",
    "    spikes, vals = signal\n",
    "    plt.plot(spikes, np.real(vals))\n",
    "    plt.plot([0, 1], [0, 0], \"r--\")\n",
    "    \n",
    "def measure_signal(signal, cutoff):\n",
    "    spikes, vals = signal\n",
    "    measure_freq = lambda k: np.dot(vals, np.exp(2 * np.pi * 1j * k * spikes))\n",
    "    return np.array([measure_freq(k) for k in np.arange(-cutoff, cutoff+1)]).reshape((-1, 1))\n",
    "\n",
    "def evaluate_dual(X, fourier_coeffs):\n",
    "    f_c = (fourier_coeffs.shape[0] - 1) // 2\n",
    "    n = X.shape[0]\n",
    "    idft = np.array([np.exp(-2 * np.pi * 1j * k * X[i]) for i in range(n) for j in range(-f_c, f_c+1)])\n",
    "\n"
   ]
  },
  {
   "cell_type": "code",
   "execution_count": 29,
   "id": "d895f5a2",
   "metadata": {},
   "outputs": [],
   "source": [
    "n_spikes = 20\n",
    "f_c = 3*n\n",
    "d = 2*f_c + 1\n",
    "\n",
    "SIGNAL = make_signal(n_spikes, 1)\n",
    "Y = measure_signal(SIGNAL, f_c)"
   ]
  },
  {
   "cell_type": "code",
   "execution_count": 33,
   "id": "27f2d1e3",
   "metadata": {},
   "outputs": [],
   "source": [
    "Q = cp.Variable((d, d), hermitian=True) # is_hermitian makes Q complex automatically\n",
    "c = cp.Variable((d, 1), complex=True)\n",
    "\n",
    "\n",
    "constraints = [bmat([[Q, c], [c.H, np.eye(1)]]) >> 0] + \\\n",
    "    [cp.trace(np.eye(d, k=j).T @ Q) == (1 if j==0 else 0) for j in range(d)]\n",
    "\n",
    "objective = cp.Maximize(cp.real(c.H @ Y))\n"
   ]
  },
  {
   "cell_type": "code",
   "execution_count": 34,
   "id": "f6db6ca5",
   "metadata": {},
   "outputs": [
    {
     "data": {
      "text/plain": [
       "15.898641005255497"
      ]
     },
     "execution_count": 34,
     "metadata": {},
     "output_type": "execute_result"
    }
   ],
   "source": [
    "prob = cp.Problem(objective, constraints)\n",
    "prob.solve()\n",
    "c_opt = c.value"
   ]
  },
  {
   "cell_type": "code",
   "execution_count": null,
   "id": "7dbf97bf",
   "metadata": {},
   "outputs": [],
   "source": []
  }
 ],
 "metadata": {
  "kernelspec": {
   "display_name": "Python 3 (ipykernel)",
   "language": "python",
   "name": "python3"
  },
  "language_info": {
   "codemirror_mode": {
    "name": "ipython",
    "version": 3
   },
   "file_extension": ".py",
   "mimetype": "text/x-python",
   "name": "python",
   "nbconvert_exporter": "python",
   "pygments_lexer": "ipython3",
   "version": "3.11.3"
  }
 },
 "nbformat": 4,
 "nbformat_minor": 5
}
